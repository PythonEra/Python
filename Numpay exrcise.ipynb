{
 "cells": [
  {
   "cell_type": "code",
   "execution_count": 1,
   "metadata": {},
   "outputs": [
    {
     "name": "stdout",
     "output_type": "stream",
     "text": [
      "[[1 2 3]\n",
      " [1 2 3]\n",
      " [1 2 3]]\n",
      "Array is iretaing\n",
      "123123123"
     ]
    }
   ],
   "source": [
    "#Numpy array iteration\n",
    "import numpy as nu\n",
    "a =nu.array([[1,2,3],[1,2,3],[1,2,3]])\n",
    "print(a)\n",
    "print(\"Array is iretaing\")\n",
    "for x in nu.nditer(a):\n",
    "    print(x,end='')\n"
   ]
  },
  {
   "cell_type": "code",
   "execution_count": 6,
   "metadata": {},
   "outputs": [
    {
     "name": "stdout",
     "output_type": "stream",
     "text": [
      "[[1 2 3 4 6]\n",
      " [4 5 6 7 6]\n",
      " [9 7 6 5 4]]\n",
      "Printing the tranpose of array\n",
      "[[1 4 9]\n",
      " [2 5 7]\n",
      " [3 6 6]\n",
      " [4 7 5]\n",
      " [6 6 4]]\n",
      "Iterating of the array\n",
      "None\n",
      "Iterating of the array\n",
      "None\n",
      "Iterating of the array\n",
      "None\n",
      "Iterating of the array\n",
      "None\n",
      "Iterating of the array\n",
      "None\n",
      "Iterating of the array\n",
      "None\n",
      "Iterating of the array\n",
      "None\n",
      "Iterating of the array\n",
      "None\n",
      "Iterating of the array\n",
      "None\n",
      "Iterating of the array\n",
      "None\n",
      "Iterating of the array\n",
      "None\n",
      "Iterating of the array\n",
      "None\n",
      "Iterating of the array\n",
      "None\n",
      "Iterating of the array\n",
      "None\n",
      "Iterating of the array\n",
      "None\n",
      "123464567697654"
     ]
    }
   ],
   "source": [
    "#tranpose of the array\n",
    "#terate over the transpose of the array\n",
    "import numpy as np\n",
    "a = np.array([[1,2,3,4,6],[4,5,6,7,6],[9,7,6,5,4]])\n",
    "print(a)\n",
    "print(\"Printing the tranpose of array\")\n",
    "#defalut method called\n",
    "at=a.T\n",
    "print(at)\n",
    "for x in np.nditer(at):\n",
    "    print(print(\"Iterating of the array\"))\n",
    "for x in np.nditer(a):\n",
    "    print(x,end='')"
   ]
  },
  {
   "cell_type": "code",
   "execution_count": 9,
   "metadata": {},
   "outputs": [
    {
     "name": "stdout",
     "output_type": "stream",
     "text": [
      "\n",
      "Printing the array:\n",
      "\n",
      "[[ 1  2  3  4]\n",
      " [ 2  4  5  6]\n",
      " [10 20 39  3]]\n",
      "\n",
      "Printing the transpose of the array:\n",
      "\n",
      "[[ 1  2 10]\n",
      " [ 2  4 20]\n",
      " [ 3  5 39]\n",
      " [ 4  6  3]]\n",
      "\n",
      "Iterating over the transposed array\n",
      "\n",
      "1 2 3 4 2 4 5 6 10 20 39 3 \n",
      "Sorting the transposed array in C-style:\n",
      "\n",
      "[[ 1  2 10]\n",
      " [ 2  4 20]\n",
      " [ 3  5 39]\n",
      " [ 4  6  3]]\n",
      "\n",
      "Iterating over the C-style array:\n",
      "\n",
      "1 2 10 2 4 20 3 5 39 4 6 3 [[ 1  2 10]\n",
      " [ 2  4 20]\n",
      " [ 3  5 39]\n",
      " [ 4  6  3]]\n",
      "Iterating over the F-style array:\n",
      "\n",
      "1 2 3 4 2 4 5 6 10 20 39 3 "
     ]
    }
   ],
   "source": [
    "   #numpy Iterator treats the specific orders (F or C).\n",
    "    import numpy as np  \n",
    "      \n",
    "    a = np.array([[1,2,3,4],[2,4,5,6],[10,20,39,3]])  \n",
    "      \n",
    "    print(\"\\nPrinting the array:\\n\")  \n",
    "      \n",
    "    print(a)  \n",
    "      \n",
    "    print(\"\\nPrinting the transpose of the array:\\n\")  \n",
    "    at = a.T  \n",
    "      \n",
    "    print(at)  \n",
    "      \n",
    "    print(\"\\nIterating over the transposed array\\n\")  \n",
    "      \n",
    "    for x in np.nditer(at):  \n",
    "        print(x, end= ' ')  \n",
    "      \n",
    "    print(\"\\nSorting the transposed array in C-style:\\n\")  \n",
    "      \n",
    "    c = at.copy(order = 'C')  \n",
    "      \n",
    "    print(c)  \n",
    "      \n",
    "    print(\"\\nIterating over the C-style array:\\n\")  \n",
    "    for x in np.nditer(c):  \n",
    "        print(x,end=' ')  \n",
    "          \n",
    "      \n",
    "    d = at.copy(order = 'F')  \n",
    "      \n",
    "    print(d)  \n",
    "    print(\"Iterating over the F-style array:\\n\")  \n",
    "    for x in np.nditer(d):  \n",
    "        print(x,end=' ')  "
   ]
  },
  {
   "cell_type": "code",
   "execution_count": 12,
   "metadata": {},
   "outputs": [
    {
     "name": "stdout",
     "output_type": "stream",
     "text": [
      "\n",
      "Printing the original array:\n",
      "\n",
      "[[ 1  2  3  4]\n",
      " [ 2  4  5  6]\n",
      " [10 20 39  3]]\n",
      "\n",
      "Iterating over the modified array\n",
      "\n",
      "3 6 9 12 6 12 15 18 30 60 117 9 "
     ]
    }
   ],
   "source": [
    "#array valude modification\n",
    "import numpy as np  \n",
    "      \n",
    "a = np.array([[1,2,3,4],[2,4,5,6],[10,20,39,3]])  \n",
    "print(\"\\nPrinting the original array:\\n\")  \n",
    "print(a)  \n",
    "      \n",
    "print(\"\\nIterating over the modified array\\n\")  \n",
    "      \n",
    "for x in np.nditer(a, op_flags = ['readwrite']):  \n",
    "    x[...] = 3 * x;  \n",
    "    print(x,end = ' ')  "
   ]
  },
  {
   "cell_type": "code",
   "execution_count": null,
   "metadata": {},
   "outputs": [],
   "source": []
  }
 ],
 "metadata": {
  "kernelspec": {
   "display_name": "Python 3",
   "language": "python",
   "name": "python3"
  },
  "language_info": {
   "codemirror_mode": {
    "name": "ipython",
    "version": 3
   },
   "file_extension": ".py",
   "mimetype": "text/x-python",
   "name": "python",
   "nbconvert_exporter": "python",
   "pygments_lexer": "ipython3",
   "version": "3.7.6"
  }
 },
 "nbformat": 4,
 "nbformat_minor": 4
}
